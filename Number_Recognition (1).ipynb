{
  "cells": [
    {
      "cell_type": "code",
      "execution_count": null,
      "metadata": {},
      "outputs": [],
      "source": [
        "# DATA SCIENCE INTERN @BHARAT INTERN"
      ]
    },
    {
      "cell_type": "code",
      "execution_count": null,
      "metadata": {},
      "outputs": [],
      "source": [
        "### AUTHOR : Shweta Santosh Kapile"
      ]
    },
    {
      "cell_type": "code",
      "execution_count": null,
      "metadata": {},
      "outputs": [],
      "source": [
        "# TASK 2 : NUMBER RECOGNITION"
      ]
    },
    {
      "cell_type": "markdown",
      "metadata": {
        "id": "qp9UoAh90mJG"
      },
      "source": [
        "**Import the necessary libraries**"
      ]
    },
    {
      "cell_type": "code",
      "execution_count": null,
      "metadata": {
        "id": "cbWCGVMKzCPl"
      },
      "outputs": [],
      "source": [
        "import numpy as np\n",
        "import matplotlib.pyplot as plt\n",
        "from sklearn.model_selection import train_test_split\n",
        "from sklearn.metrics import accuracy_score\n",
        "from keras.datasets import mnist\n",
        "from keras.models import Sequential\n",
        "from keras.layers import Dense, Dropout\n",
        "from keras.utils import np_utils\n"
      ]
    },
    {
      "cell_type": "markdown",
      "metadata": {
        "id": "q2FzcgUd0m2N"
      },
      "source": [
        "**Load and preprocess the MNIST dataset**"
      ]
    },
    {
      "cell_type": "code",
      "execution_count": null,
      "metadata": {
        "colab": {
          "base_uri": "https://localhost:8080/"
        },
        "id": "5vIFMtCEzPdC",
        "outputId": "fc880b3c-b042-430d-aca5-0884fa4c8d4c"
      },
      "outputs": [
        {
          "name": "stdout",
          "output_type": "stream",
          "text": [
            "Downloading data from https://storage.googleapis.com/tensorflow/tf-keras-datasets/mnist.npz\n",
            "11490434/11490434 [==============================] - 1s 0us/step\n"
          ]
        }
      ],
      "source": [
        "(X_train, y_train), (X_test, y_test) = mnist.load_data()\n",
        "\n",
        "# Flatten the input images from 28x28 pixels to 784-dimensional vectors\n",
        "X_train = X_train.reshape(X_train.shape[0], 784).astype('float32')\n",
        "X_test = X_test.reshape(X_test.shape[0], 784).astype('float32')\n",
        "\n",
        "# Normalize the pixel values between 0 and 1\n",
        "X_train /= 255\n",
        "X_test /= 255\n",
        "\n",
        "# Convert the target labels to categorical one-hot encoding\n",
        "y_train = np_utils.to_categorical(y_train, 10)\n",
        "y_test = np_utils.to_categorical(y_test, 10)\n"
      ]
    },
    {
      "cell_type": "markdown",
      "metadata": {
        "id": "nrNaRGPs0n6u"
      },
      "source": [
        "**Build the neural network model**"
      ]
    },
    {
      "cell_type": "code",
      "execution_count": null,
      "metadata": {
        "id": "ePh7YSTBzX1J"
      },
      "outputs": [],
      "source": [
        "model = Sequential()\n",
        "model.add(Dense(512, input_shape=(784,), activation='relu'))\n",
        "model.add(Dropout(0.2))\n",
        "model.add(Dense(512, activation='relu'))\n",
        "model.add(Dropout(0.2))\n",
        "model.add(Dense(10, activation='softmax'))\n",
        "\n",
        "model.compile(loss='categorical_crossentropy', optimizer='adam', metrics=['accuracy'])\n"
      ]
    },
    {
      "cell_type": "markdown",
      "metadata": {
        "id": "5TMlevx40ox9"
      },
      "source": [
        "**Train the model**"
      ]
    },
    {
      "cell_type": "code",
      "execution_count": null,
      "metadata": {
        "colab": {
          "base_uri": "https://localhost:8080/"
        },
        "id": "KTgRDTjazbAJ",
        "outputId": "9e4e0a6b-f885-45bb-d3b2-30d87a53519d"
      },
      "outputs": [
        {
          "name": "stdout",
          "output_type": "stream",
          "text": [
            "Epoch 1/10\n",
            "469/469 [==============================] - 14s 25ms/step - loss: 0.2488 - accuracy: 0.9254 - val_loss: 0.1067 - val_accuracy: 0.9662\n",
            "Epoch 2/10\n",
            "469/469 [==============================] - 9s 19ms/step - loss: 0.1019 - accuracy: 0.9687 - val_loss: 0.0807 - val_accuracy: 0.9753\n",
            "Epoch 3/10\n",
            "469/469 [==============================] - 10s 21ms/step - loss: 0.0722 - accuracy: 0.9778 - val_loss: 0.0719 - val_accuracy: 0.9776\n",
            "Epoch 4/10\n",
            "469/469 [==============================] - 10s 21ms/step - loss: 0.0539 - accuracy: 0.9827 - val_loss: 0.0609 - val_accuracy: 0.9818\n",
            "Epoch 5/10\n",
            "469/469 [==============================] - 10s 21ms/step - loss: 0.0464 - accuracy: 0.9852 - val_loss: 0.0650 - val_accuracy: 0.9808\n",
            "Epoch 6/10\n",
            "469/469 [==============================] - 9s 20ms/step - loss: 0.0387 - accuracy: 0.9872 - val_loss: 0.0713 - val_accuracy: 0.9800\n",
            "Epoch 7/10\n",
            "469/469 [==============================] - 10s 22ms/step - loss: 0.0361 - accuracy: 0.9878 - val_loss: 0.0659 - val_accuracy: 0.9825\n",
            "Epoch 8/10\n",
            "469/469 [==============================] - 10s 22ms/step - loss: 0.0294 - accuracy: 0.9902 - val_loss: 0.0695 - val_accuracy: 0.9824\n",
            "Epoch 9/10\n",
            "469/469 [==============================] - 10s 21ms/step - loss: 0.0280 - accuracy: 0.9904 - val_loss: 0.0589 - val_accuracy: 0.9816\n",
            "Epoch 10/10\n",
            "469/469 [==============================] - 9s 19ms/step - loss: 0.0248 - accuracy: 0.9916 - val_loss: 0.0646 - val_accuracy: 0.9819\n"
          ]
        }
      ],
      "source": [
        "history = model.fit(X_train, y_train, validation_data=(X_test, y_test), epochs=10, batch_size=128)\n"
      ]
    },
    {
      "cell_type": "markdown",
      "metadata": {
        "id": "EihAAKnm0pqV"
      },
      "source": [
        "**Evaluate the model**"
      ]
    },
    {
      "cell_type": "code",
      "execution_count": null,
      "metadata": {
        "colab": {
          "base_uri": "https://localhost:8080/"
        },
        "id": "oSWH6liIzXzR",
        "outputId": "7ee51322-5a70-4869-fbc0-8d8d02a0557c"
      },
      "outputs": [
        {
          "name": "stdout",
          "output_type": "stream",
          "text": [
            "313/313 [==============================] - 2s 6ms/step - loss: 0.0646 - accuracy: 0.9819\n",
            "Accuracy: 0.9818999767303467\n"
          ]
        }
      ],
      "source": [
        "accuracy = model.evaluate(X_test, y_test)[1]\n",
        "print(\"Accuracy:\", accuracy)\n"
      ]
    },
    {
      "cell_type": "markdown",
      "metadata": {
        "id": "p91kMamR0qVd"
      },
      "source": [
        "**Plot the training history**"
      ]
    },
    {
      "cell_type": "code",
      "execution_count": null,
      "metadata": {
        "colab": {
          "base_uri": "https://localhost:8080/",
          "height": 472
        },
        "id": "UiBPnyi60Mcw",
        "outputId": "e3d16f11-e7d4-46d9-89ef-6a6f6741a773"
      },
      "outputs": [
        {
          "data": {
            "image/png": "[encoded data removed]",
            "text/plain": [
              "<Figure size 640x480 with 1 Axes>"
            ]
          },
          "metadata": {},
          "output_type": "display_data"
        }
      ],
      "source": [
        "plt.plot(history.history['accuracy'])\n",
        "plt.plot(history.history['val_accuracy'])\n",
        "plt.title('Model Accuracy')\n",
        "plt.ylabel('Accuracy')\n",
        "plt.xlabel('Epoch')\n",
        "plt.legend(['Train', 'Test'], loc='upper left')\n",
        "plt.show()\n"
      ]
    },
    {
      "cell_type": "markdown",
      "metadata": {
        "id": "mdxeWMq80rS2"
      },
      "source": [
        "**Make predictions**"
      ]
    },
    {
      "cell_type": "code",
      "execution_count": null,
      "metadata": {
        "colab": {
          "base_uri": "https://localhost:8080/"
        },
        "id": "RBzlgwcq0iZz",
        "outputId": "705dc880-cb9b-45c5-9060-b4f030037719"
      },
      "outputs": [
        {
          "name": "stdout",
          "output_type": "stream",
          "text": [
            "1/1 [==============================] - 0s 98ms/step\n",
            "Predicted digit: 7\n"
          ]
        }
      ],
      "source": [
        "# Predict on a single image\n",
        "digit = X_test[0]\n",
        "digit = np.expand_dims(digit, axis=0)\n",
        "prediction = model.predict(digit)\n",
        "predicted_class = np.argmax(prediction)\n",
        "print(\"Predicted digit:\", predicted_class)\n"
      ]
    }
  ],
  "metadata": {
    "colab": {
      "provenance": []
    },
    "kernelspec": {
      "display_name": "Python 3",
      "name": "python3"
    },
    "language_info": {
      "name": "python"
    }
  },
  "nbformat": 4,
  "nbformat_minor": 0
}
